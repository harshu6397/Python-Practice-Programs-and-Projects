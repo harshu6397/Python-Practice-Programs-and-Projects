{
 "cells": [
  {
   "cell_type": "code",
   "execution_count": null,
   "id": "1c405dd8",
   "metadata": {},
   "outputs": [],
   "source": [
    "# Procedural Oriented Programming (POP)\n",
    "import time\n",
    "\n",
    "while True:\n",
    "    localtime = time.localtime()\n",
    "    result = time.strftime(\"%I:%M:%S %p\", localtime)\n",
    "    print(result, end=\"\\r\")\n",
    "    time.sleep(1)"
   ]
  },
  {
   "cell_type": "code",
   "execution_count": null,
   "id": "52d20f64",
   "metadata": {},
   "outputs": [
    {
     "name": "stdout",
     "output_type": "stream",
     "text": [
      "08:19:43 PM\r"
     ]
    }
   ],
   "source": [
    "# Object Oriented Programming (OOP)\n",
    "import time\n",
    "\n",
    "class DigitalClock:\n",
    "\n",
    "    @staticmethod\n",
    "    def clock():    \n",
    "        while True:\n",
    "            localtime = time.localtime()\n",
    "            result = time.strftime(\"%I:%M:%S %p\", localtime)\n",
    "            print(result, end=\"\\r\")\n",
    "            time.sleep(1)\n",
    "\n",
    "if __name__ == \"__main__\":\n",
    "    DigitalClock().clock()"
   ]
  },
  {
   "cell_type": "code",
   "execution_count": null,
   "id": "c319bc43",
   "metadata": {},
   "outputs": [],
   "source": []
  }
 ],
 "metadata": {
  "kernelspec": {
   "display_name": "Python 3 (ipykernel)",
   "language": "python",
   "name": "python3"
  },
  "language_info": {
   "codemirror_mode": {
    "name": "ipython",
    "version": 3
   },
   "file_extension": ".py",
   "mimetype": "text/x-python",
   "name": "python",
   "nbconvert_exporter": "python",
   "pygments_lexer": "ipython3",
   "version": "3.9.7"
  }
 },
 "nbformat": 4,
 "nbformat_minor": 5
}
