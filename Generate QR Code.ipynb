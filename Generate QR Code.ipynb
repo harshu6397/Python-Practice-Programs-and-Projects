{
 "cells": [
  {
   "cell_type": "code",
   "execution_count": 26,
   "id": "b66da4ce",
   "metadata": {},
   "outputs": [],
   "source": [
    "# Procedural Oriented Programming (POP)\n",
    "import qrcode\n",
    "\n",
    "def create_qr_code(string):\n",
    "    qr = qrcode.make(string)\n",
    "    return qr\n",
    "\n",
    "def save_qr_code(qr):\n",
    "    qr.save('Myqr.png')\n",
    "\n",
    "string = \"https://github.com/harshu6397\"\n",
    "qrcode = create_qr_code(string)\n",
    "save_qr_code(qrcode)"
   ]
  },
  {
   "cell_type": "code",
   "execution_count": 27,
   "id": "35d51b05",
   "metadata": {},
   "outputs": [],
   "source": [
    "# Object Oriented Programming (OOP)\n",
    "import qrcode\n",
    "\n",
    "class QRCode:\n",
    "    def __init__(self, string):\n",
    "        self.string = string\n",
    "    \n",
    "    def create_qr_code(self):\n",
    "        qr = qrcode.make(self.string)\n",
    "        return qr\n",
    "    \n",
    "    @staticmethod\n",
    "    def save_qr_code(qr):\n",
    "        qr.save('Myqr.png')\n",
    "    \n",
    "qr = QRCode('https://github.com/harshu6397')\n",
    "qr.create_qr_code()\n",
    "qr.save_qr_code(qr.create_qr_code())"
   ]
  },
  {
   "cell_type": "code",
   "execution_count": null,
   "id": "05a4a813",
   "metadata": {},
   "outputs": [],
   "source": []
  },
  {
   "cell_type": "code",
   "execution_count": null,
   "id": "f6e86ce2",
   "metadata": {},
   "outputs": [],
   "source": []
  },
  {
   "cell_type": "code",
   "execution_count": 5,
   "id": "6bebdaf7",
   "metadata": {},
   "outputs": [],
   "source": []
  },
  {
   "cell_type": "code",
   "execution_count": null,
   "id": "be449856",
   "metadata": {},
   "outputs": [],
   "source": []
  }
 ],
 "metadata": {
  "kernelspec": {
   "display_name": "Python 3 (ipykernel)",
   "language": "python",
   "name": "python3"
  },
  "language_info": {
   "codemirror_mode": {
    "name": "ipython",
    "version": 3
   },
   "file_extension": ".py",
   "mimetype": "text/x-python",
   "name": "python",
   "nbconvert_exporter": "python",
   "pygments_lexer": "ipython3",
   "version": "3.9.7"
  }
 },
 "nbformat": 4,
 "nbformat_minor": 5
}
