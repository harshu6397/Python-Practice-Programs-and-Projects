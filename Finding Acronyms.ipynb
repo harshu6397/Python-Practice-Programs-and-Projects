{
 "cells": [
  {
   "cell_type": "markdown",
   "id": "e42f845f",
   "metadata": {},
   "source": [
    "### Finding Acronyms"
   ]
  },
  {
   "cell_type": "code",
   "execution_count": 1,
   "id": "3b356b3f",
   "metadata": {},
   "outputs": [
    {
     "name": "stdout",
     "output_type": "stream",
     "text": [
      "Enter a string: Procedural Oriented Programming\n",
      "The acronym of Procedural Oriented Programming is: POP\n"
     ]
    }
   ],
   "source": [
    "# Procedural Oriented Programming (POP)\n",
    "string = input(\"Enter a string: \").split()\n",
    "\n",
    "acronym = \"\"\n",
    "\n",
    "for i in string:\n",
    "    acronym = acronym + i[0].upper()\n",
    "\n",
    "print(f\"The acronym of {' '.join(string)} is: {acronym}\")"
   ]
  },
  {
   "cell_type": "code",
   "execution_count": 2,
   "id": "b52eb478",
   "metadata": {},
   "outputs": [
    {
     "name": "stdout",
     "output_type": "stream",
     "text": [
      "Enter a string: Object Oriented Programming\n"
     ]
    },
    {
     "data": {
      "text/plain": [
       "'The acronym of Object Oriented Programming is: OOP'"
      ]
     },
     "execution_count": 2,
     "metadata": {},
     "output_type": "execute_result"
    }
   ],
   "source": [
    "# Object Oriented Programming (OOP)\n",
    "class Acronym:\n",
    "    def __init__(self):\n",
    "        self.string = input(\"Enter a string: \").split()\n",
    "        self.acronym = \"\"\n",
    "    \n",
    "    def find_acronym(self):\n",
    "        for i in self.string:\n",
    "            self.acronym = self.acronym + i[0].upper()\n",
    "        return f\"The acronym of {' '.join(self.string)} is: {self.acronym}\"\n",
    "\n",
    "acronym = Acronym()\n",
    "acronym.find_acronym()"
   ]
  },
  {
   "cell_type": "code",
   "execution_count": null,
   "id": "9ca0d429",
   "metadata": {},
   "outputs": [],
   "source": []
  }
 ],
 "metadata": {
  "kernelspec": {
   "display_name": "Python 3 (ipykernel)",
   "language": "python",
   "name": "python3"
  },
  "language_info": {
   "codemirror_mode": {
    "name": "ipython",
    "version": 3
   },
   "file_extension": ".py",
   "mimetype": "text/x-python",
   "name": "python",
   "nbconvert_exporter": "python",
   "pygments_lexer": "ipython3",
   "version": "3.9.7"
  }
 },
 "nbformat": 4,
 "nbformat_minor": 5
}
